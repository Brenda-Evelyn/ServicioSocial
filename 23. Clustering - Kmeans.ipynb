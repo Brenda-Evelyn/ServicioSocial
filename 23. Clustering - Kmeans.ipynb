{
 "cells": [
  {
   "cell_type": "markdown",
   "metadata": {},
   "source": [
    "#  K means"
   ]
  },
  {
   "cell_type": "code",
   "execution_count": 1,
   "metadata": {},
   "outputs": [],
   "source": [
    "import numpy as np"
   ]
  },
  {
   "cell_type": "code",
   "execution_count": 2,
   "metadata": {},
   "outputs": [
    {
     "data": {
      "text/plain": [
       "array([[0.46706312, 0.70400284, 0.55081113],\n",
       "       [0.18240919, 0.96958253, 0.85120857],\n",
       "       [0.67746878, 0.05564808, 0.8689322 ],\n",
       "       [0.79096291, 0.32842966, 0.45187536],\n",
       "       [0.32349601, 0.1323071 , 0.99834664],\n",
       "       [0.65333239, 0.94931241, 0.31193298],\n",
       "       [0.25822225, 0.9854903 , 0.54332611],\n",
       "       [0.30615897, 0.01297012, 0.30272322],\n",
       "       [0.55911324, 0.72856546, 0.38273906],\n",
       "       [0.68177786, 0.50214662, 0.97537523],\n",
       "       [0.75416811, 0.7541229 , 0.55908288],\n",
       "       [0.82126034, 0.22957444, 0.15884192],\n",
       "       [0.5072319 , 0.01832089, 0.61728992],\n",
       "       [0.91676542, 0.82018103, 0.58007436],\n",
       "       [0.79454816, 0.74020135, 0.1613427 ],\n",
       "       [0.3300317 , 0.35953343, 0.05468748],\n",
       "       [0.08884278, 0.66890987, 0.44707731],\n",
       "       [0.95685007, 0.91550869, 0.14326787],\n",
       "       [0.67818724, 0.0500608 , 0.42258649],\n",
       "       [0.63018951, 0.98693535, 0.61514651],\n",
       "       [0.7451097 , 0.52363884, 0.38258853],\n",
       "       [0.59303946, 0.71926722, 0.13249864],\n",
       "       [0.3965418 , 0.66932699, 0.38545706],\n",
       "       [0.37084401, 0.80225963, 0.5182323 ],\n",
       "       [0.51329135, 0.52562367, 0.83663228],\n",
       "       [0.33346242, 0.31899116, 0.7217597 ],\n",
       "       [0.27260349, 0.35184438, 0.5840285 ],\n",
       "       [0.01715413, 0.82458059, 0.35028408],\n",
       "       [0.6551955 , 0.46050251, 0.87828045],\n",
       "       [0.40095926, 0.26377896, 0.45191395]])"
      ]
     },
     "execution_count": 2,
     "metadata": {},
     "output_type": "execute_result"
    }
   ],
   "source": [
    "#Genero datos aleatorios: 30 individuos de 3 features\n",
    "data = np.random.random(90).reshape(30,3)\n",
    "data"
   ]
  },
  {
   "cell_type": "code",
   "execution_count": 5,
   "metadata": {},
   "outputs": [],
   "source": [
    "#Como quiero dividir el conjunto de datos en 2 clusters, elijo 2 elementos para convertirlos en centroides:\n",
    "centro1 = np.random.choice(range(len(data)))\n",
    "centro2 = np.random.choice(range(len(data)))"
   ]
  },
  {
   "cell_type": "code",
   "execution_count": 8,
   "metadata": {},
   "outputs": [
    {
     "data": {
      "text/plain": [
       "array([[0.08884278, 0.66890987, 0.44707731],\n",
       "       [0.91676542, 0.82018103, 0.58007436]])"
      ]
     },
     "execution_count": 8,
     "metadata": {},
     "output_type": "execute_result"
    }
   ],
   "source": [
    "#Creo arreglo con mis dos centroides elegidos\n",
    "centros = np.vstack([data[centro1],data[centro2]])\n",
    "centros"
   ]
  },
  {
   "cell_type": "markdown",
   "metadata": {},
   "source": [
    "**Para hacer clusters puedo usar las funciones vq o kmeans de scipy**"
   ]
  },
  {
   "cell_type": "code",
   "execution_count": 11,
   "metadata": {},
   "outputs": [],
   "source": [
    "from scipy.cluster.vq import vq, kmeans"
   ]
  },
  {
   "cell_type": "code",
   "execution_count": 12,
   "metadata": {},
   "outputs": [
    {
     "data": {
      "text/plain": [
       "(array([0, 0, 1, 1, 0, 1, 0, 0, 1, 1, 1, 1, 0, 1, 1, 0, 0, 1, 1, 1, 1, 1,\n",
       "        0, 0, 1, 0, 0, 0, 1, 0]),\n",
       " array([0.39375481, 0.5123288 , 0.85159402, 0.52352714, 0.80430253,\n",
       "        0.3974565 , 0.37172086, 0.70591883, 0.41862837, 0.55913131,\n",
       "        0.17675465, 0.73169265, 0.79201503, 0.        , 0.44347492,\n",
       "        0.55484742, 0.        , 0.44888089, 0.82146646, 0.33341088,\n",
       "        0.39547897, 0.56152125, 0.31380873, 0.31995294, 0.56158466,\n",
       "        0.50767341, 0.39122136, 0.19682876, 0.53545713, 0.51144027]))"
      ]
     },
     "execution_count": 12,
     "metadata": {},
     "output_type": "execute_result"
    }
   ],
   "source": [
    "clusters = vq(data,centros)\n",
    "clusters #devuelve dos arreglos, uno donde especifica a qué cluster pertenece cada observacion\n",
    "         #y el otro especifica la distancia de cada elemento al baricentro de su cluster al que pertenece"
   ]
  },
  {
   "cell_type": "markdown",
   "metadata": {},
   "source": [
    "**A la funcion kmeans se le pasa el dataset normalizado y, ya sea los centroides para iniciar proceso de clusterizacion(como el primer ejemplo a continuacion) o el numero de clusters que se desean(como el segundo ejemplo a continuacion)**"
   ]
  },
  {
   "cell_type": "code",
   "execution_count": 18,
   "metadata": {},
   "outputs": [
    {
     "data": {
      "text/plain": [
       "(array([[0.39268115, 0.45662529, 0.59783961],\n",
       "        [0.74684903, 0.69961249, 0.35267189]]), 0.3752014771479203)"
      ]
     },
     "execution_count": 18,
     "metadata": {},
     "output_type": "execute_result"
    }
   ],
   "source": [
    "kmeans(data,centros)  #Devuleve un arreglo donde especifica los centroides resultantes al final del proceso\n",
    "# y un escalar = (la suma de los cuadrados de las distancias de cada punto a su centroide correspondiente)/(la suma de los cuadrados de las distancias de cada punto al baricentro global del sistema)"
   ]
  },
  {
   "cell_type": "code",
   "execution_count": 20,
   "metadata": {},
   "outputs": [
    {
     "data": {
      "text/plain": [
       "(array([[0.53554277, 0.25001526, 0.63604507],\n",
       "        [0.51260147, 0.7718482 , 0.40998574]]), 0.34752478741784804)"
      ]
     },
     "execution_count": 20,
     "metadata": {},
     "output_type": "execute_result"
    }
   ],
   "source": [
    "kmeans(data,2) \n"
   ]
  },
  {
   "cell_type": "code",
   "execution_count": null,
   "metadata": {},
   "outputs": [],
   "source": []
  }
 ],
 "metadata": {
  "kernelspec": {
   "display_name": "Python 3",
   "language": "python",
   "name": "python3"
  },
  "language_info": {
   "codemirror_mode": {
    "name": "ipython",
    "version": 3
   },
   "file_extension": ".py",
   "mimetype": "text/x-python",
   "name": "python",
   "nbconvert_exporter": "python",
   "pygments_lexer": "ipython3",
   "version": "3.7.1"
  }
 },
 "nbformat": 4,
 "nbformat_minor": 2
}
