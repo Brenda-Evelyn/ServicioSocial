{
 "cells": [
  {
   "cell_type": "markdown",
   "metadata": {},
   "source": [
    "# Red neuronal desde Cero"
   ]
  },
  {
   "cell_type": "code",
   "execution_count": 1,
   "metadata": {},
   "outputs": [],
   "source": [
    "%config IPCompleter.greedy=True"
   ]
  },
  {
   "cell_type": "code",
   "execution_count": 2,
   "metadata": {},
   "outputs": [],
   "source": [
    "import scipy as sc\n",
    "import numpy as np\n",
    "import matplotlib.pyplot as plt\n",
    "from sklearn.datasets import make_circles"
   ]
  },
  {
   "cell_type": "code",
   "execution_count": 3,
   "metadata": {},
   "outputs": [
    {
     "name": "stdout",
     "output_type": "stream",
     "text": [
      "(500, 1)\n"
     ]
    },
    {
     "data": {
      "image/png": "[encoded data removed]",
      "text/plain": [
       "<Figure size 432x288 with 1 Axes>"
      ]
     },
     "metadata": {
      "needs_background": "light"
     },
     "output_type": "display_data"
    }
   ],
   "source": [
    "#CREAR EL DATASET\n",
    "n = 500  #num de individuos\n",
    "p = 2    #num de features\n",
    "\n",
    "X,Y = make_circles(n,factor=0.6,noise=0.1) \n",
    "#X es la matriz de datos donde cada renglon es un individuo y cada columna es una coordenada.\n",
    "#Y es un arreglo unidimensional que indica a qué categoría pertenece cada individuo de X.\n",
    "Y = Y[:,np.newaxis]\n",
    "print(Y.shape)\n",
    "\n",
    "plt.scatter(X[Y[:,0]==0,0],X[Y[:,0]==0,1])\n",
    "plt.scatter(X[Y[:,0]==1,0],X[Y[:,0]==1,1])\n",
    "plt.axis(\"equal\")\n",
    "plt.show()\n"
   ]
  },
  {
   "cell_type": "code",
   "execution_count": null,
   "metadata": {},
   "outputs": [],
   "source": [
    "#CLASE: CAPA DE LA RED\n",
    "\n",
    "class capa():\n",
    "    \n",
    "    def __init__(self, num_conec, num_neuro, f_act): \n",
    "        \n",
    "        self.f_act = f_act\n",
    "        self.b = np.random.rand(1,num_neuro)     *2 - 1\n",
    "        self.w = np.random.rand(num_conec,num_neuro)*2 - 1\n",
    "        self.num_conec = num_conec\n",
    "        self.num_neuro = num_neuro"
   ]
  },
  {
   "cell_type": "code",
   "execution_count": null,
   "metadata": {},
   "outputs": [],
   "source": [
    "#FUNCIONES DE ACTIVACION\n",
    " \n",
    "sigmoide = (lambda x: 1/(1+np.e**(-x)),\n",
    "            lambda x: np.e**(-x) /(1+np.e**(-x))**2)\n",
    "\n",
    "_x = np.linspace(-5,5,100)\n",
    "plt.plot(_x,sigmoide[0](_x),c=\"red\")\n",
    "plt.plot(_x,sigmoide[1](_x),c=\"blue\")"
   ]
  },
  {
   "cell_type": "code",
   "execution_count": null,
   "metadata": {},
   "outputs": [],
   "source": [
    "# CREAR ESQUELETO DE LA RED\n",
    "\n",
    "#capa(num_conec,num_neuro,f_act)\n",
    "\n",
    "capa1 = capa(p,4,sigmoide)\n",
    "capa2 = capa(4,8,sigmoide)\n",
    "#...\n",
    "\n",
    "#Para automatizar la creacion de todas las capas, en vez de hacerlas una por una:\n",
    "\n",
    "def crear_red(topo_red,f_act):\n",
    "    red = []\n",
    "    for i, num_neuro in enumerate(topo_red[:-1]):\n",
    "        red.append(capa(topo_red[i],topo_red[i+1],f_act))\n",
    "    \n",
    "    return red"
   ]
  },
  {
   "cell_type": "code",
   "execution_count": null,
   "metadata": {},
   "outputs": [],
   "source": [
    "# FUNCION DE COSTO\n",
    "f_costo = (lambda Yp,Yr: np.mean((Yp-Yr)**2),  #Establezco una funcion de costo para la red\n",
    "           lambda Yp,Yr: (Yp-Yr) )"
   ]
  },
  {
   "cell_type": "code",
   "execution_count": null,
   "metadata": {},
   "outputs": [],
   "source": [
    "# PROCESO DE ENTRENAMIENTO DE LA RED\n",
    "\n",
    "def entrenar(red_neuronal,X,Y,f_costo, lr=0.5,train=True):\n",
    "    \n",
    "    out = [(None,X)] #lista de parejas(z,a) para cada capa\n",
    "    \n",
    "    #FORWARD PASS\n",
    "    for l, layer in enumerate(red_neuronal):\n",
    "        \n",
    "        z = out[-1][1] @ red_neuronal[l].w + red_neuronal[l].b #me devuelve una matriz de n x num_neuro(z's) = \n",
    "                                                               #valor de las z's para cada individuo(500)\n",
    "        a = red_neuronal[l].f_act[0](z) #aplico funcion de activacion a la matriz z anterior\n",
    "        \n",
    "        out.append((z,a))\n",
    "        \n",
    "    #print(out[-1][1]) #me imprime el valor obtenido al final de la red f(z) para cada individuo (X)\n",
    "    #print(f_costo[0](out[-1][1],Y)) #me imprime el valor de la funcion de costo terminando de recorrer la red\n",
    "                                    #ECM de los valores obtenidos al final de la red y \n",
    "    #BACKWARD PASS\n",
    "    if train :\n",
    "        deltas = []\n",
    "        for l in reversed(range(0,len(red_neuronal))):\n",
    "            z = out[l+1][0]\n",
    "            a = out[l+1][1]\n",
    "            \n",
    "            if  l == len(red_neuronal)-1:\n",
    "                deltas.insert(0,f_costo[1](a,Y)*red_neuronal[l].f_act[1](z))#inserta en la primera posicion un vector de 500x1\n",
    "            \n",
    "            else:\n",
    "                deltas.insert(0,deltas[0] @ _W.T * red_neuronal[l].f_act[1](z))\n",
    "             \n",
    "        #GRADIENT DECENT        \n",
    "            _W = red_neuronal[l].w\n",
    "            \n",
    "            red_neuronal[l].b = red_neuronal[l].b - np.mean(deltas[0],axis=0,keepdims=True) * lr\n",
    "            red_neuronal[l].w = red_neuronal[l].w - out[l][1].T @ deltas[0] * lr\n",
    "            \n",
    "             \n",
    "    return out[-1][1]  #Prediccion final de la red  para los n individuos"
   ]
  },
  {
   "cell_type": "code",
   "execution_count": null,
   "metadata": {},
   "outputs": [],
   "source": [
    "#Entreno red y muestro gráficamente el avance de la clasificacion\n",
    "import time\n",
    "from IPython.display import clear_output\n",
    "\n",
    "topology = [p,4,8,1]  #num de neuronas que quiero en cada capa de mi red\n",
    "mi_red = crear_red(topology,sigmoide)     #Creo red\n",
    "\n",
    "loss = []\n",
    "\n",
    "for i in range(2500):   #Cuantas veces quiero entrenar mi red\n",
    "    \n",
    "    yp = entrenar(mi_red,X,Y,f_costo,lr=0.05) \n",
    "    \n",
    "    if i % 50 == 0:\n",
    "        loss.append(f_costo[0](yp,Y))\n",
    "        \n",
    "        res=50\n",
    "        _x0 = np.linspace(-1.5,1.5,res)\n",
    "        _x1 = np.linspace(-1.5,1.5,res)\n",
    "        _Y = np.zeros((res,res))\n",
    "        \n",
    "        for i0, x0 in enumerate(_x0):\n",
    "            for i1, x1 in enumerate(_x1):\n",
    "                _Y[i0,i1] = entrenar(mi_red,np.array([[x0,x1]]),Y,f_costo,train=False)[0][0]  #Prediccion en el area [-1.5,1.5] x [-1.5,1.5]\n",
    "        \n",
    "        plt.pcolormesh(_x0, _x1, _Y, cmap=\"coolwarm\")     #Esto colorea el mapa _Y de predicciones\n",
    "        plt.axis(\"equal\")\n",
    "        plt.scatter(X[Y[:,0] == 0, 0], X[Y[:,0] == 0, 1], c=\"skyblue\")\n",
    "        plt.scatter(X[Y[:,0] == 1, 0], X[Y[:,0] == 1, 1], c=\"salmon\")\n",
    "        \n",
    "        clear_output(wait=True)\n",
    "        plt.show()\n",
    "        plt.plot(range(len(loss)),loss) #Gráfica de los costos obtenidos(cada 25 iteraciones) hasta el momento\n",
    "        plt.title(\"Funcion de costo cada 25 iteraciones\")\n",
    "        plt.show()\n",
    "        time.sleep(0.1) #detiene durante una fraccion de segundo el programa para poder visualizar la ultima gráfica obtenida\n",
    "    \n"
   ]
  },
  {
   "cell_type": "code",
   "execution_count": null,
   "metadata": {},
   "outputs": [],
   "source": [
    "#Test\n",
    "X_prima,Y_prima = make_circles(1000,factor=0.6,noise=0.1) \n",
    "Y_prima = Y_prima[:,np.newaxis]"
   ]
  },
  {
   "cell_type": "code",
   "execution_count": null,
   "metadata": {},
   "outputs": [],
   "source": [
    "prueba = entrenar(mi_red,X_prima,Y,f_costo,lr=0.5,train=False)"
   ]
  },
  {
   "cell_type": "code",
   "execution_count": null,
   "metadata": {},
   "outputs": [],
   "source": [
    "resultado = np.where(prueba<0.5,0,1)"
   ]
  },
  {
   "cell_type": "code",
   "execution_count": null,
   "metadata": {},
   "outputs": [],
   "source": [
    "(resultado == Y_prima).ravel().tolist().count(True) #Aciertos"
   ]
  },
  {
   "cell_type": "code",
   "execution_count": null,
   "metadata": {},
   "outputs": [],
   "source": []
  }
 ],
 "metadata": {
  "kernelspec": {
   "display_name": "Python 3",
   "language": "python",
   "name": "python3"
  },
  "language_info": {
   "codemirror_mode": {
    "name": "ipython",
    "version": 3
   },
   "file_extension": ".py",
   "mimetype": "text/x-python",
   "name": "python",
   "nbconvert_exporter": "python",
   "pygments_lexer": "ipython3",
   "version": "3.7.1"
  }
 },
 "nbformat": 4,
 "nbformat_minor": 2
}
