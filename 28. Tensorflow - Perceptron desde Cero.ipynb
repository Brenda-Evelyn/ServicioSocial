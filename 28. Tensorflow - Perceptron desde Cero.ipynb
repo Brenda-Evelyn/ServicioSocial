{
 "cells": [
  {
   "cell_type": "markdown",
   "metadata": {},
   "source": [
    "# Red Tensorflow desde Cero"
   ]
  },
  {
   "cell_type": "markdown",
   "metadata": {},
   "source": [
    "## Generar datos"
   ]
  },
  {
   "cell_type": "code",
   "execution_count": 1,
   "metadata": {},
   "outputs": [],
   "source": [
    "import numpy as np\n",
    "import scipy as sc\n",
    "import matplotlib.pyplot as plt\n",
    "\n",
    "from sklearn.datasets import make_circles\n",
    "\n",
    "# Creamos nuestros datos artificiales, donde buscaremos clasificar \n",
    "# dos anillos concéntricos de datos. \n",
    "X, Y = make_circles(n_samples=500, factor=0.6, noise=0.1)\n",
    "\n",
    "# Resolución del mapa de predicción.\n",
    "res = 100 \n",
    "\n",
    "# Coordendadas del mapa de predicción.\n",
    "_x0 = np.linspace(-1.5, 1.5, res)\n",
    "_x1 = np.linspace(-1.5, 1.5, res)\n",
    "\n",
    "# Input con cada combo de coordenadas del mapa de predicción.\n",
    "_pX = np.array(np.meshgrid(_x0, _x1)).T.reshape(-1, 2)\n",
    "\n",
    "# Objeto vacio a 0.5 del mapa de predicción.\n",
    "_pY = np.zeros((res, res)) + 0.5\n",
    "\n",
    "# Visualización del mapa de predicción.\n",
    "plt.figure(figsize=(8, 8))\n",
    "plt.pcolormesh(_x0, _x1, _pY, cmap=\"coolwarm\", vmin=0, vmax=1)\n",
    "\n",
    "# Visualización de la nube de datos.\n",
    "plt.scatter(X[Y == 0,0], X[Y == 0,1], c=\"skyblue\")\n",
    "plt.scatter(X[Y == 1,0], X[Y == 1,1], c=\"salmon\")\n",
    "\n",
    "plt.tick_params(labelbottom=False, labelleft=False)"
   ]
  },
  {
   "cell_type": "markdown",
   "metadata": {},
   "source": [
    "## Modelo con Tensorflow"
   ]
  },
  {
   "cell_type": "code",
   "execution_count": 3,
   "metadata": {},
   "outputs": [],
   "source": [
    "from matplotlib import animation\n",
    "from IPython.core.display import display, HTML\n",
    "\n",
    "import tensorflow as tf"
   ]
  },
  {
   "cell_type": "markdown",
   "metadata": {},
   "source": [
    "*El punto de partida del código en tensorflow es **definir** explícitamente qué **operaciones** forman el grafo computacional. Es decir, cómo los **datos (tensores)** van fluyendo y transformándose de principio a fin.*"
   ]
  },
  {
   "cell_type": "code",
   "execution_count": 4,
   "metadata": {},
   "outputs": [],
   "source": [
    "#Creo puntos de entrada de la red\n",
    "x = tf.placeholder('float', shape = [None,X.shape[1]])  # Matriz X de datos\n",
    "y = tf.placeholder('float', shape = [None])    # Vector Y de respuestas"
   ]
  },
  {
   "cell_type": "markdown",
   "metadata": {},
   "source": [
    "*Los **placeholders** se usan para definir los **puntos de entrada del grafo,** donde se van a insertar los datos a la red y donde se obtienen los datos de salida. Son marcadores de posición para tensores que pueden usarse para alimentarse con un valor el cuál será evaluado, pero no pueden ser evaluados directamente.*\n",
    "\n",
    "* *Firma: tf.placeholder(dtype, shape=None, name=None)*"
   ]
  },
  {
   "cell_type": "code",
   "execution_count": 5,
   "metadata": {},
   "outputs": [],
   "source": [
    "topologia = [2, 16, 8, 1]   # Número de neuronas por capa \n",
    "lr = 0.05                   # Tasa de aprendizaje (larning rate) del optimizador."
   ]
  },
  {
   "cell_type": "markdown",
   "metadata": {},
   "source": [
    "### Defino grafo de operaciones que forman la red:"
   ]
  },
  {
   "cell_type": "code",
   "execution_count": 6,
   "metadata": {},
   "outputs": [
    {
     "name": "stdout",
     "output_type": "stream",
     "text": [
      "WARNING:tensorflow:From C:\\Users\\jvill\\Anaconda3\\lib\\site-packages\\tensorflow\\python\\framework\\op_def_library.py:263: colocate_with (from tensorflow.python.framework.ops) is deprecated and will be removed in a future version.\n",
      "Instructions for updating:\n",
      "Colocations handled automatically by placer.\n"
     ]
    }
   ],
   "source": [
    "#Capa 1\n",
    "w1 = tf.Variable(tf.random_normal([topologia[0],topologia[1]]), name = \"Pesos_1\")\n",
    "b1 = tf.Variable(tf.random_normal([topologia[1]]), name= \"Bias_1\")\n",
    "op1 = tf.nn.relu(tf.add(tf.matmul(x,w1),b1))"
   ]
  },
  {
   "cell_type": "markdown",
   "metadata": {},
   "source": [
    "*Las **variables** se usan para definir los **parametros que serán optimizados** dentro de la red.  En este caso, las variables son inicializadas con valores aleatorios y con las dimensiones indicadas.*\n",
    "\n",
    "* *Firma: tf.Variable(valor-inicial, name=nombre-opcional)*\n"
   ]
  },
  {
   "cell_type": "markdown",
   "metadata": {},
   "source": [
    "*En cada capa se realiza una suma ponderada, equivalente a una **multiplicacion matricial** luego se le **suma** el parametro bias y todo eso se pasa por una **funcion de activacion**.*\n",
    "\n",
    "* *Firma multiplicacion matricial: tf.matmul(matriz-a, matriz-b, transpose_a=False, transpose_b=False, adjoint_a=False, adjoint_b=False)*\n",
    "\n",
    "*Ambas matrices deben ser del mismo tipo de dato. Adjoint significa traspuesta y conjugada.*\n",
    "\n",
    "* *Firma suma: tf.add(tensor-x, tensor-y, name=None)*\n",
    "\n",
    "*Ambos tensores deben ser del mismo tipo de dato.*\n",
    "\n",
    "* *Firma func. act: tf.nn.relu(tensor-de-features, name=None)*"
   ]
  },
  {
   "cell_type": "code",
   "execution_count": 7,
   "metadata": {},
   "outputs": [],
   "source": [
    "#Capa 2\n",
    "w2 = tf.Variable(tf.random_normal([topologia[1],topologia[2]]), name = \"Pesos_2\")\n",
    "b2 = tf.Variable(tf.random_normal([topologia[2]]), name= \"Bias_2\")\n",
    "op2 = tf.nn.relu(tf.add(tf.matmul(op1,w2),b2))\n",
    "\n",
    "#Capa 3\n",
    "w3 = tf.Variable(tf.random_normal([topologia[2],topologia[3]]), name = \"Pesos_3\")\n",
    "b3 = tf.Variable(tf.random_normal([topologia[3]]), name= \"Bias_3\")\n",
    "yp = tf.nn.sigmoid(tf.add(tf.matmul(op2,w3),b3)) [:,0]  #Vector final de predicciones"
   ]
  },
  {
   "cell_type": "code",
   "execution_count": 8,
   "metadata": {},
   "outputs": [
    {
     "name": "stdout",
     "output_type": "stream",
     "text": [
      "WARNING:tensorflow:From C:\\Users\\jvill\\Anaconda3\\lib\\site-packages\\tensorflow\\python\\ops\\losses\\losses_impl.py:667: to_float (from tensorflow.python.ops.math_ops) is deprecated and will be removed in a future version.\n",
      "Instructions for updating:\n",
      "Use tf.cast instead.\n"
     ]
    }
   ],
   "source": [
    "#Calculo error de la prediccion obtenida\n",
    "error = tf.losses.mean_squared_error(yp, y)"
   ]
  },
  {
   "cell_type": "markdown",
   "metadata": {},
   "source": [
    "*Una vez obtenida la prediccion tengo que compararla con los resultados reales mediante una funcion de costo.*\n",
    "\n",
    "*En este caso la **funcion de costo** es el ECM.*"
   ]
  },
  {
   "cell_type": "markdown",
   "metadata": {},
   "source": [
    "### Procedo a entrenar la red"
   ]
  },
  {
   "cell_type": "code",
   "execution_count": 9,
   "metadata": {},
   "outputs": [],
   "source": [
    "#Elijo el decenso del gradiente como metodo para minimizar el error obtenido en la prediccion.\n",
    "optimizador = tf.train.GradientDescentOptimizer(learning_rate=lr).minimize(error)"
   ]
  },
  {
   "cell_type": "markdown",
   "metadata": {},
   "source": [
    "*Un **optimizador**, es un método para minimizar el error. En este caso, es el Descenso del gradiente*"
   ]
  },
  {
   "cell_type": "code",
   "execution_count": 10,
   "metadata": {},
   "outputs": [
    {
     "name": "stdout",
     "output_type": "stream",
     "text": [
      "Ciclo de entrenamiento 0 / 1000 - ECM =  0.42329907 - Precisión = 0.478\n",
      "Ciclo de entrenamiento 25 / 1000 - ECM =  0.37871137 - Precisión = 0.512\n",
      "Ciclo de entrenamiento 50 / 1000 - ECM =  0.302649 - Precisión = 0.398\n",
      "Ciclo de entrenamiento 75 / 1000 - ECM =  0.24987026 - Precisión = 0.534\n",
      "Ciclo de entrenamiento 100 / 1000 - ECM =  0.22160895 - Precisión = 0.636\n",
      "Ciclo de entrenamiento 125 / 1000 - ECM =  0.20311153 - Precisión = 0.69\n",
      "Ciclo de entrenamiento 150 / 1000 - ECM =  0.1920623 - Precisión = 0.714\n",
      "Ciclo de entrenamiento 175 / 1000 - ECM =  0.18356921 - Precisión = 0.734\n",
      "Ciclo de entrenamiento 200 / 1000 - ECM =  0.1768261 - Precisión = 0.744\n",
      "Ciclo de entrenamiento 225 / 1000 - ECM =  0.1706859 - Precisión = 0.756\n",
      "Ciclo de entrenamiento 250 / 1000 - ECM =  0.1645794 - Precisión = 0.772\n",
      "Ciclo de entrenamiento 275 / 1000 - ECM =  0.158569 - Precisión = 0.8\n",
      "Ciclo de entrenamiento 300 / 1000 - ECM =  0.15235569 - Precisión = 0.814\n",
      "Ciclo de entrenamiento 325 / 1000 - ECM =  0.14615387 - Precisión = 0.826\n",
      "Ciclo de entrenamiento 350 / 1000 - ECM =  0.1394814 - Precisión = 0.858\n",
      "Ciclo de entrenamiento 375 / 1000 - ECM =  0.13222171 - Precisión = 0.87\n",
      "Ciclo de entrenamiento 400 / 1000 - ECM =  0.124182306 - Precisión = 0.882\n",
      "Ciclo de entrenamiento 425 / 1000 - ECM =  0.11529393 - Precisión = 0.896\n",
      "Ciclo de entrenamiento 450 / 1000 - ECM =  0.10546831 - Precisión = 0.914\n",
      "Ciclo de entrenamiento 475 / 1000 - ECM =  0.09567825 - Precisión = 0.938\n",
      "Ciclo de entrenamiento 500 / 1000 - ECM =  0.087199345 - Precisión = 0.944\n",
      "Ciclo de entrenamiento 525 / 1000 - ECM =  0.08035019 - Precisión = 0.958\n",
      "Ciclo de entrenamiento 550 / 1000 - ECM =  0.07470315 - Precisión = 0.966\n",
      "Ciclo de entrenamiento 575 / 1000 - ECM =  0.06985293 - Precisión = 0.968\n",
      "Ciclo de entrenamiento 600 / 1000 - ECM =  0.065529585 - Precisión = 0.972\n",
      "Ciclo de entrenamiento 625 / 1000 - ECM =  0.06185805 - Precisión = 0.97\n",
      "Ciclo de entrenamiento 650 / 1000 - ECM =  0.05866216 - Precisión = 0.972\n",
      "Ciclo de entrenamiento 675 / 1000 - ECM =  0.05585717 - Precisión = 0.976\n",
      "Ciclo de entrenamiento 700 / 1000 - ECM =  0.05336035 - Precisión = 0.976\n",
      "Ciclo de entrenamiento 725 / 1000 - ECM =  0.050992195 - Precisión = 0.978\n",
      "Ciclo de entrenamiento 750 / 1000 - ECM =  0.048842568 - Precisión = 0.98\n",
      "Ciclo de entrenamiento 775 / 1000 - ECM =  0.046896227 - Precisión = 0.98\n",
      "Ciclo de entrenamiento 800 / 1000 - ECM =  0.045093358 - Precisión = 0.98\n",
      "Ciclo de entrenamiento 825 / 1000 - ECM =  0.04338282 - Precisión = 0.98\n",
      "Ciclo de entrenamiento 850 / 1000 - ECM =  0.041803643 - Precisión = 0.98\n",
      "Ciclo de entrenamiento 875 / 1000 - ECM =  0.04038998 - Precisión = 0.98\n",
      "Ciclo de entrenamiento 900 / 1000 - ECM =  0.03909287 - Precisión = 0.98\n",
      "Ciclo de entrenamiento 925 / 1000 - ECM =  0.037897643 - Precisión = 0.98\n",
      "Ciclo de entrenamiento 950 / 1000 - ECM =  0.036761884 - Precisión = 0.982\n",
      "Ciclo de entrenamiento 975 / 1000 - ECM =  0.035680965 - Precisión = 0.984\n"
     ]
    }
   ],
   "source": [
    "ciclos_train = 1000  #Número de ciclos para entrenamiento.\n",
    "\n",
    "iPY = [] # Aquí guardaremos la evolución de las predicción, para la animación posterior.\n",
    "\n",
    "with tf.Session() as sess: #Se inicia una sesion para alimentar los tensores y ejecutar el grafo computacional.\n",
    "  \n",
    "  # Inicializamos todas las variables, las matrices W y b.\n",
    "  sess.run(tf.global_variables_initializer())\n",
    "    \n",
    "  # Iteramos ciclos de entrenamiento.\n",
    "  for ciclo in range(ciclos_train):\n",
    "  \n",
    "    # Evaluamos al optimizador, a la función de coste y al tensor de salida pY. \n",
    "    # La evaluación del optimizer producirá el entrenamiento de la red.\n",
    "    _, _error, _yp = sess.run([optimizador, error, yp], feed_dict={ x : X, y : Y })\n",
    "    \n",
    "    # Cada 25 iteraciones, imprimimos métricas.\n",
    "    if ciclo % 25 == 0: \n",
    "      \n",
    "      # Cálculo del accuracy.\n",
    "      acc = np.mean(np.round(_yp) == Y)  #¿A cuántos individuos le atinó la prediccion?\n",
    "      \n",
    "      # Impresión de métricas.\n",
    "      print('Ciclo de entrenamiento', ciclo, '/', ciclos_train, '- ECM = ', _error, '- Precisión =', acc)\n",
    "      \n",
    "      # Obtenemos predicciones para cada punto de nuestro mapa de predicción _pX.\n",
    "      _pY = sess.run(yp, feed_dict={ x : _pX }).reshape((res, res))\n",
    "\n",
    "      # Y lo guardamos para visualizar la animación.\n",
    "      iPY.append(_pY)\n",
    "  \n",
    "  #print(sess.run(yp, feed_dict={x:X}))"
   ]
  },
  {
   "cell_type": "markdown",
   "metadata": {},
   "source": [
    "## Animación"
   ]
  },
  {
   "cell_type": "code",
   "execution_count": 14,
   "metadata": {},
   "outputs": [
    {
     "name": "stdout",
     "output_type": "stream",
     "text": [
      "--- Generando animación ---\n",
      "hola\n"
     ]
    },
    {
     "data": {
      "image/png": "[encoded data removed]",
      "text/plain": [
       "<Figure size 720x720 with 1 Axes>"
      ]
     },
     "metadata": {},
     "output_type": "display_data"
    }
   ],
   "source": [
    "ims = []\n",
    "\n",
    "fig = plt.figure(figsize=(10, 10))\n",
    "\n",
    "print(\"--- Generando animación ---\")\n",
    "\n",
    "for fr in range(len(iPY)):\n",
    "  \n",
    "  im = plt.pcolormesh(_x0, _x1, iPY[fr], cmap=\"coolwarm\", animated=True)\n",
    "\n",
    "  # Visualización de la nube de datos.\n",
    "  plt.scatter(X[Y == 0,0], X[Y == 0,1], c=\"skyblue\")\n",
    "  plt.scatter(X[Y == 1,0], X[Y == 1,1], c=\"salmon\")\n",
    "\n",
    "  # plt.title(\"Resultado Clasificación\")\n",
    "  plt.tick_params(labelbottom=False, labelleft=False)\n",
    "\n",
    "  ims.append([im])\n",
    "\n",
    "ani = animation.ArtistAnimation(fig, ims, interval=50, blit=True, repeat_delay=1000)\n",
    "HTML(ani.to_html5_video())"
   ]
  },
  {
   "cell_type": "code",
   "execution_count": null,
   "metadata": {},
   "outputs": [],
   "source": []
  }
 ],
 "metadata": {
  "kernelspec": {
   "display_name": "Python 3",
   "language": "python",
   "name": "python3"
  },
  "language_info": {
   "codemirror_mode": {
    "name": "ipython",
    "version": 3
   },
   "file_extension": ".py",
   "mimetype": "text/x-python",
   "name": "python",
   "nbconvert_exporter": "python",
   "pygments_lexer": "ipython3",
   "version": "3.7.1"
  }
 },
 "nbformat": 4,
 "nbformat_minor": 2
}
