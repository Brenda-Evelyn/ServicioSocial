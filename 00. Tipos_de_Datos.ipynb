{
 "cells": [
  {
   "cell_type": "code",
   "execution_count": null,
   "metadata": {},
   "outputs": [],
   "source": [
    "%config IPCompleter.greedy=True"
   ]
  },
  {
   "cell_type": "code",
   "execution_count": null,
   "metadata": {},
   "outputs": [],
   "source": [
    "#Python"
   ]
  },
  {
   "cell_type": "code",
   "execution_count": 22,
   "metadata": {},
   "outputs": [
    {
     "data": {
      "text/plain": [
       "'Hola, este es un comentario de más de una línea, se puede escribir un texto. \\nSe necesitan poner tres comillas, ya sea \" o \\', es indistinto cuál tipo de comillas se use,\\nambas funcionan igual.'"
      ]
     },
     "execution_count": 22,
     "metadata": {},
     "output_type": "execute_result"
    }
   ],
   "source": [
    "\"\"\"Hola, este es un comentario de más de una línea, se puede escribir un texto. \n",
    "Se necesitan poner tres comillas, ya sea \" o ', es indistinto cuál tipo de comillas se use,\n",
    "ambas funcionan igual.\"\"\"\n"
   ]
  },
  {
   "cell_type": "code",
   "execution_count": 9,
   "metadata": {},
   "outputs": [
    {
     "name": "stdout",
     "output_type": "stream",
     "text": [
      "4 hola Bola 34\n",
      "holaBola\n",
      "38\n"
     ]
    }
   ],
   "source": [
    "# VARIABLES\n",
    "x=4\n",
    "y=\"hola\"\n",
    "z=34\n",
    "w=\"Bola\"\n",
    "\n",
    "# unir cualquier tipo de VARIABLES en un print.\n",
    "print(x,y,w,z)      # Automaticamente se agrega un espacio entre ellas\n",
    "\n",
    "# Si todas las variables a unir son STRINGS, se puede usar +\n",
    "print(y+w)         # No incluye espacio entre ellas\n",
    "\n",
    "# Si se usa + para números, SUMA.\n",
    "print(x+z)"
   ]
  },
  {
   "cell_type": "code",
   "execution_count": 24,
   "metadata": {},
   "outputs": [
    {
     "name": "stdout",
     "output_type": "stream",
     "text": [
      "hola\n",
      "mundo\n",
      "hola mundo\n"
     ]
    }
   ],
   "source": [
    "#Los dos tipos de comillas funcionan igual\n",
    "print(\"hola\")\n",
    "print('mundo')\n",
    "print(\"hola\",'mundo')"
   ]
  },
  {
   "cell_type": "code",
   "execution_count": 7,
   "metadata": {},
   "outputs": [
    {
     "name": "stdout",
     "output_type": "stream",
     "text": [
      "(2+5j) 6j\n",
      "<class 'complex'> <class 'complex'>\n",
      "2.8 2 2\n",
      "(2.8+0j)\n",
      "True\n",
      "False\n",
      "True\n"
     ]
    }
   ],
   "source": [
    "#TIPOS DE DATOS\n",
    "\n",
    "# numeros imaginarios se hacen con j\n",
    "y=6j\n",
    "x=2+5j\n",
    "print(x,y)\n",
    "print(type(x),type(y))  # TYPE devuelve el tipo de dato del objeto\n",
    "\n",
    "#convertir float a entero\n",
    "print(2.8,int(2.6),int(2.3))\n",
    "\n",
    "#convertir float a complejo\n",
    "print(complex(2.8))\n",
    "\n",
    "# Función IS INSTANCE devuelve un boleano que indica si el objeto es instancia del tipo de dato que se especifica\n",
    "print(isinstance(6,int))\n",
    "print(isinstance(6j,int))\n",
    "print(isinstance(6j,complex))"
   ]
  },
  {
   "cell_type": "code",
   "execution_count": 23,
   "metadata": {},
   "outputs": [
    {
     "name": "stdout",
     "output_type": "stream",
     "text": [
      "[1, 2, 2, 3]\n",
      "2\n",
      "3\n",
      "[1, 2]\n",
      "4\n",
      "[1, 2, 2, 3, 5]\n",
      "[1, 6, 2, 2, 3, 5]\n",
      "[1, 8, 2, 2, 3, 5]\n",
      "[1, 8, 2, 2, 5]\n",
      "[1, 8, 2, 2, 5, 10, 11, 12, 1, 2, 'a']\n",
      "['a', 'b']\n"
     ]
    }
   ],
   "source": [
    "#ARREGLOS\n",
    "\n",
    "#lista\n",
    "x=[1,2,2,3]\n",
    "print(x)\n",
    "print(x[1])\n",
    "print(x[-1])\n",
    "print(x[0:2])\n",
    "print(len(x))  #devuelve la longitud del arreglo\n",
    "x.append(5)\n",
    "print(x)\n",
    "x.insert(1,6) #inserta el numero 6 en la posicion 1\n",
    "print(x)\n",
    "x[1]=8\n",
    "print(x)\n",
    "x.remove(3)   #elimina el numero 3 del arreglo. Si hay más de un 3, elimina el primero solamente.\n",
    "print(x)\n",
    "\n",
    "# unir listas\n",
    "y=[10,11,12]\n",
    "w=[1,2,\"a\"]\n",
    "z=x+y+w\n",
    "print(z)\n",
    "\n",
    "#metodo constructor de una lista\n",
    "a=list((\"a\",\"b\"))\n",
    "print(a)\n"
   ]
  },
  {
   "cell_type": "code",
   "execution_count": 11,
   "metadata": {},
   "outputs": [
    {
     "name": "stdout",
     "output_type": "stream",
     "text": [
      "(1, 2, 3)\n",
      "2\n",
      "3\n",
      "3 es la longutud de la tupla\n",
      "(2, 3)\n",
      "[9, 2, 3]\n",
      "(9, 2, 3)\n",
      "9\n",
      "2\n",
      "3\n",
      "no\n",
      "(9, 2, 3, 'Hola', 'Bola', 3)\n",
      "2\n"
     ]
    }
   ],
   "source": [
    "#tupla\n",
    "x=(1,2,3)\n",
    "print(x)\n",
    "print(x[1])\n",
    "print(x[-1])\n",
    "print(len(x), \"es la longutud de la tupla\")\n",
    "print(x[1:3])\n",
    "\n",
    "#para cambiar una entrada se debe convertir a lista\n",
    "lista=list(x)\n",
    "lista[0]=9\n",
    "print(lista)\n",
    "x=tuple(lista)\n",
    "print(x)\n",
    "\n",
    "#recorrer tupla\n",
    "for y in x:\n",
    "    print(y)\n",
    "\n",
    "#verificar un valor existente\n",
    "if 5 in x:\n",
    "    print(\"sí\")\n",
    "else:\n",
    "    print(\"no\")\n",
    "    \n",
    "# unir tuplas\n",
    "y=(\"Hola\",\"Bola\",3)\n",
    "z=x+y\n",
    "print(z)\n",
    "\n",
    "# contar cuántas veces aparece un valor\n",
    "numero=z.count(3)\n",
    "print(numero)\n",
    "\n"
   ]
  },
  {
   "cell_type": "code",
   "execution_count": 30,
   "metadata": {},
   "outputs": [
    {
     "name": "stdout",
     "output_type": "stream",
     "text": [
      "{'be', 2, 'a', 23}\n",
      "el conjunto tiene  4  elementos\n",
      "be\n",
      "2\n",
      "a\n",
      "23\n",
      "True\n",
      "{2, 'be', 'mouse', 'a', 23}\n",
      "{1, 2, 3, 'be', 'mouse', 'rosa', 'a', 23}\n",
      "\n",
      "{1, 2, 3, 4, 'a', 'b', 'c'}\n",
      "{1, 3, 4}\n",
      "{1, 3, 4}\n",
      "set()\n"
     ]
    }
   ],
   "source": [
    "#conjunto\n",
    "x={\"a\",23,\"be\",2,2,2}   #coleccion no ordenada ni indexada\n",
    "print(x)\n",
    "print(\"el conjunto tiene \",len(x),\" elementos\")\n",
    "\n",
    "# accesar a los elementos\n",
    "for i in x:\n",
    "    print(i)\n",
    "    \n",
    "#checar si hay un elemento en el conjunto\n",
    "print('be' in x)\n",
    "\n",
    "#agregar un elemento\n",
    "x.add(\"mouse\")\n",
    "print(x)\n",
    "#agregar varios elementos\n",
    "x.update(['rosa',1,3])\n",
    "print(x)\n",
    "\n",
    "#unir dos conjuntos\n",
    "print()\n",
    "x={1,2,3,4}\n",
    "y={'a','b','c'}\n",
    "z=x.union(y)\n",
    "print(z)\n",
    "\n",
    "#eliminar un elemento\n",
    "x.remove(2)\n",
    "print(x)\n",
    "x.discard(2)  #si el elemento ya no está, no hace nada\n",
    "print(x)\n",
    "#x.remove(2)   #si el elemento ya no esta, manda error\n",
    "\n",
    "#conjunto vacio\n",
    "x.clear()      #deja el conjunto vacio, borra todo su ontenido\n",
    "print(x)       # si se desea borrar el conjunto-> del x"
   ]
  },
  {
   "cell_type": "code",
   "execution_count": 52,
   "metadata": {},
   "outputs": [
    {
     "name": "stdout",
     "output_type": "stream",
     "text": [
      "{'a': 1, 'b': 2, 'c': 'hola'}\n",
      "longitud del diccionario: 3\n",
      "{'a': 12, 'b': 2, 'c': 'hola'}\n",
      "{'a': 12, 'b': 2, 'c': 'hola', 4: 'bola'}\n",
      "{'a': 12, 'b': 2, 'c': 'hola'}\n",
      "12\n",
      "12\n",
      "a\n",
      "b\n",
      "c\n",
      "12\n",
      "2\n",
      "hola\n",
      "\n",
      "12\n",
      "2\n",
      "hola\n",
      "a 12\n",
      "b 2\n",
      "c hola\n",
      "True\n",
      "nuevo diccionario {'a': 12, 'b': 2, 'c': 'hola'}\n",
      "{'dict1': {1: 'a', 2: 'b'}, 'dict2': {1: 'c', 2: 'd'}, 'dict3': {1: 'e', 2: 'f'}}\n",
      "{1: 'c', 2: 'd'}\n",
      "c\n"
     ]
    }
   ],
   "source": [
    "#diccionario\n",
    "x={\"a\":1,\"b\":2,\"c\":\"hola\"}      #  claves:a,b,c    valores:1,2,hola \n",
    "print(x)\n",
    "#tamaño del diccionario\n",
    "print(\"longitud del diccionario:\",len(x))\n",
    "#modificar un valor\n",
    "x[\"a\"]=12\n",
    "print(x)\n",
    "#agregar un elemento\n",
    "x[4]=\"bola\"                  # se agrega la clave: 4   con el valor: bola\n",
    "print(x)\n",
    "#borrar un elemento\n",
    "x.pop(4)                     # se borra el elemento con clave 4\n",
    "print(x)\n",
    "\n",
    "#accesar a un elemento\n",
    "print(x[\"a\"])\n",
    "print(x.get(\"a\"))\n",
    "\n",
    "#accesar a todas las claves\n",
    "for i in x:\n",
    "    print(i)\n",
    "#accesar a todos los valores\n",
    "for i in x:\n",
    "    print(x[i])\n",
    "\n",
    "#funciones\n",
    "print()\n",
    "x.values()\n",
    "x.items()\n",
    "for i in x.values():\n",
    "    print(i)\n",
    "for i,j in x.items():\n",
    "    print(i,j)\n",
    "    \n",
    "# checar si una clave está\n",
    "print(\"a\" in x)\n",
    "\n",
    "#copiar un dicccionario\n",
    "y=x.copy()\n",
    "print(\"nuevo diccionario\",y)\n",
    "\n",
    "#diccionario anidado\n",
    "z={\"dict1\":{1:'a',2:'b'}   ,\"dict2\":{1:'c',2:'d'}     ,\"dict3\":{1:'e',2:'f'}   }\n",
    "print(z)\n",
    "print(z[\"dict2\"])         #accesar al segundo diccionario del diccionario principal\n",
    "print(z[\"dict2\"][1])      #accesar al valor de la clave 1 del segundo diccionario"
   ]
  },
  {
   "cell_type": "code",
   "execution_count": 6,
   "metadata": {},
   "outputs": [
    {
     "name": "stdout",
     "output_type": "stream",
     "text": [
      "0\n",
      "1\n",
      "2\n",
      "\n",
      "13\n",
      "14\n",
      "15\n",
      "16\n",
      "17\n",
      "18\n",
      "{1, 2, 3}\n"
     ]
    }
   ],
   "source": [
    "#rango\n",
    "x=range(3)\n",
    "for i in x:\n",
    "    print(i)    # Para conocer los valores en el rango\n",
    "\n",
    "print()\n",
    "\n",
    "for i in range(13,19):\n",
    "    print(i)\n",
    "\n",
    "#conjunto congelado\n",
    "x=({1,2,3})\n",
    "print(x)"
   ]
  },
  {
   "cell_type": "code",
   "execution_count": 97,
   "metadata": {},
   "outputs": [
    {
     "name": "stdout",
     "output_type": "stream",
     "text": [
      "Hola Mundo\n",
      "a\n",
      "a M\n",
      "Mund\n",
      "10\n",
      "\n"
     ]
    }
   ],
   "source": [
    "#  STRINGS\n",
    "\n",
    "#acceso\n",
    "x=\"Hola Mundo\"\n",
    "print(x)\n",
    "print(x[3])     #se obtiene el caracter de la posicion 3\n",
    "print(x[3:6])   #se obtienen los caracteres de la posicion 3 a la 6(no incluida)\n",
    "print(x[-5:-1]) #se obtienen los caracteres de la posicion 5 a la 1 contando de derecha a izquierda\n",
    "print(len(x))   #se obtiene el numero de caracteres en la cadena\n",
    "print()\n"
   ]
  },
  {
   "cell_type": "code",
   "execution_count": 98,
   "metadata": {},
   "outputs": [
    {
     "name": "stdout",
     "output_type": "stream",
     "text": [
      "Holaa       o        Mundo\n",
      "Holaa       o Mundo\n",
      "holaa       o       \n",
      "HOLAA       O       \n",
      "Holggg       o       \n",
      "['H', 'laa       ', '       ']\n",
      "\n"
     ]
    }
   ],
   "source": [
    "#métodos para Strings\n",
    "x=\"Holaa       o       \"\n",
    "print(x,\"Mundo\")\n",
    "print (x.strip(),\"Mundo\")    #strip quita los espacios del inicio o del final de la cadena\n",
    "print(x.lower())             #lower convierte todo a minusculas\n",
    "print(x.upper())             #upper convierte todo a mayusculas\n",
    "print(x.replace(\"aa\",\"ggg\"))  #reemplaza los caracteres \"aa\" por los caracteres \"ggg\"\n",
    "print(x.split(\"o\"))          #separa la cadena en subcadenas si encuentra la instancia \"o\"\n",
    "print()\n"
   ]
  },
  {
   "cell_type": "code",
   "execution_count": 116,
   "metadata": {},
   "outputs": [
    {
     "name": "stdout",
     "output_type": "stream",
     "text": [
      "este es el texto base\n",
      "True\n",
      "False\n"
     ]
    }
   ],
   "source": [
    "#Check String\n",
    "x = \"este es el texto base\"\n",
    "print(x)\n",
    "print(\"es\" in x)            # el checador string/in/string devuelve un booleano.     \n",
    "                            #True si la primera cadena se encuentra en la segunda cadena\n",
    "    \n",
    "print(\"es\" not in x)        # el checador string/not in/string devuelve un boleeano. \n",
    "                            #True si la primera cadena no se encuentra en la segunda cadena"
   ]
  },
  {
   "cell_type": "code",
   "execution_count": 100,
   "metadata": {},
   "outputs": [
    {
     "name": "stdout",
     "output_type": "stream",
     "text": [
      "jsdkhlfksjldjlfkjsdlñk\n"
     ]
    }
   ],
   "source": [
    "    \n",
    "#Concatenacion de dos o más cadenas\n",
    "a=\"jsdkhlfksj\"\n",
    "b=\"ldjlfkjsdlñk\"\n",
    "c=a+b\n",
    "print(c)\n",
    "\n"
   ]
  },
  {
   "cell_type": "code",
   "execution_count": 111,
   "metadata": {},
   "outputs": [
    {
     "name": "stdout",
     "output_type": "stream",
     "text": [
      "este 2 es el primer 3 texto base\n",
      "este HOLA es el primer MANZANA texto base\n",
      "\n",
      "Segundo BOLA texto MANZANA base para HOLA metodo format\n",
      "Segundo 7 texto 6 base para 5 metodo format\n"
     ]
    }
   ],
   "source": [
    "#Concatenación de cadenas con numeros\n",
    "#Se hace con método format()\n",
    "\n",
    "t=\"este {} es el primer {} texto base\"\n",
    "\n",
    "print(t.format(2,3))     #reemplaza los corchetes por los argumentos en el orden dado\n",
    "print(t.format(\"HOLA\",\"MANZANA\")) \n",
    "print()\n",
    "\n",
    "t=\"Segundo {2} texto {1} base para {0} metodo format\"\n",
    "\n",
    "print(t.format(\"HOLA\",\"MANZANA\",\"BOLA\")) #reemplaza los corchetes por los argumentos\n",
    "                                         #los argumentos de format se entienden como tupla\n",
    "                                         # y se sigue el orden de las posiciones especificadas en los corchetes \n",
    "print(t.format(5,6,7))"
   ]
  },
  {
   "cell_type": "code",
   "execution_count": 114,
   "metadata": {},
   "outputs": [
    {
     "name": "stdout",
     "output_type": "stream",
     "text": [
      "We are the so-called \"Vikings\" from the north.\n",
      "We are the so-called \n",
      " from the north.\n",
      "We are the so-called \t from the north.\n"
     ]
    }
   ],
   "source": [
    "#Caracteres especiales dentro de strings\n",
    "\n",
    "t = \"We are the so-called \\\"Vikings\\\" from the north.\"  # permite escribir comillas dentro de un string\n",
    "print(t)\n",
    "t = \"We are the so-called \\n from the north.\"           # permite escribir salto de linea dentro de un string\n",
    "print(t) \n",
    "t = \"We are the so-called \\t from the north.\"           # permite escribir espacio de tabulador dentro de un string\n",
    "print(t)\n",
    "\n",
    "#  *Ver lista para más caracteres en: https://www.w3schools.com/python/python_strings.asp"
   ]
  }
 ],
 "metadata": {
  "kernelspec": {
   "display_name": "Python 3",
   "language": "python",
   "name": "python3"
  },
  "language_info": {
   "codemirror_mode": {
    "name": "ipython",
    "version": 3
   },
   "file_extension": ".py",
   "mimetype": "text/x-python",
   "name": "python",
   "nbconvert_exporter": "python",
   "pygments_lexer": "ipython3",
   "version": "3.7.1"
  }
 },
 "nbformat": 4,
 "nbformat_minor": 2
}
