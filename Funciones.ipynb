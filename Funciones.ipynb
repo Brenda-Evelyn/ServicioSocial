{
 "cells": [
  {
   "cell_type": "code",
   "execution_count": null,
   "metadata": {},
   "outputs": [],
   "source": [
    "# FUNCIONES"
   ]
  },
  {
   "cell_type": "code",
   "execution_count": 60,
   "metadata": {},
   "outputs": [
    {
     "name": "stdout",
     "output_type": "stream",
     "text": [
      "Me llamo Jorge y me gusta comer jugo de naranja\n",
      "Me llamo Jorge y me gusta comer jugo de naranja\n",
      "\n",
      "Hoy comí 2 frutas ('naranja', 'papaya')\n"
     ]
    }
   ],
   "source": [
    "#def - para definir una funcion\n",
    "\n",
    "def funcion1(nombre,comida):  \n",
    "    print(\"Me llamo\",nombre,\"y me gusta comer\",comida)    \n",
    "\n",
    "#Llamar la funcion\n",
    "funcion1(\"Jorge\",\"jugo de naranja\")\n",
    "funcion1(comida=\"jugo de naranja\", nombre=\"Jorge\")  # tambien se pueden pasar los valores especificando a qué parametros\n",
    "                                                    # corresponden, en ese caso, no importa el orden\n",
    "\n",
    "\n",
    "def funcion2(numero,frutas):\n",
    "    print(\"Hoy comí\",numero,\"frutas\",frutas)\n",
    "\n",
    "#Llamar a la funcion\n",
    "print()\n",
    "funcion2(2,(\"naranja\",\"papaya\"))\n",
    "\n"
   ]
  },
  {
   "cell_type": "code",
   "execution_count": 42,
   "metadata": {},
   "outputs": [
    {
     "name": "stdout",
     "output_type": "stream",
     "text": [
      "4.0\n"
     ]
    }
   ],
   "source": [
    "#Tipo de parametros\n",
    "def funcion3(numero1,numero2):  #Se puede usar cualquier tipo de dato como parametros sin necesidad de definir qué tipo son,\n",
    "    x=numero1**(1/2)            \n",
    "    print(x+numero2)            #dentro de la funcion se da a entender el tipo de dato de los parametros\n",
    "\n",
    "funcion3(1,3)\n",
    "#   * Si usas la funcion con otro tipo de dato, simplemente mandará error\n"
   ]
  },
  {
   "cell_type": "code",
   "execution_count": 39,
   "metadata": {},
   "outputs": [
    {
     "name": "stdout",
     "output_type": "stream",
     "text": [
      "Me llamo Jorge y me gusta comer jugo de naranja\n",
      "Me llamo Brenda y me gusta comer frutas\n"
     ]
    }
   ],
   "source": [
    "#Valores predeterminados - para cuando llames la funcion sin especificar parametros\n",
    "\n",
    "def funcion4(nombre=\"Brenda\",comida=\"frutas\"): \n",
    "    print(\"Me llamo\",nombre,\"y me gusta comer\",comida)    \n",
    "\n",
    "funcion4(\"Jorge\",\"jugo de naranja\")\n",
    "funcion4()"
   ]
  },
  {
   "cell_type": "code",
   "execution_count": 59,
   "metadata": {},
   "outputs": [
    {
     "name": "stdout",
     "output_type": "stream",
     "text": [
      "la raiz cuadrada de 100 es 10.0\n",
      "\n",
      "16\n",
      "4.0\n",
      "La raiz cuadrada de 16 es 4.0\n"
     ]
    }
   ],
   "source": [
    "#Valores de retorno\n",
    "\n",
    "def funcion5(numero):\n",
    "    x=numero**(1/2)\n",
    "    return (numero,x)    #Se indica que la funcion tiene que devolver una tupla de tamaño 2, con las variables especificadas\n",
    "\n",
    "\n",
    "print(\"la raiz cuadrada de\",funcion5(100)[0],\"es\",funcion5(100)[1])\n",
    "\n",
    "print()\n",
    "valores=funcion5(16)   #la funcion5 devuelve una tupla de dos valores,\n",
    "print(valores[0])      #aqui se muestra la primera entrada de tal tupla,\n",
    "print(valores[1])      #segunda entrada\n",
    "print(\"La raiz cuadrada de\",valores[0],\"es\",valores[1])"
   ]
  },
  {
   "cell_type": "code",
   "execution_count": 64,
   "metadata": {},
   "outputs": [
    {
     "name": "stdout",
     "output_type": "stream",
     "text": [
      "el nombre de tu fruta es: mango\n",
      "el nombre de tu fruta es: 3\n"
     ]
    }
   ],
   "source": [
    "# Número de Argumentos arbitrario\n",
    "\n",
    "#Cuando no sabes el numero de parámetros que introducirá el usuario, puedes definir la funcion como sigue:\n",
    "\n",
    "def funcion6(*parametros):   #esto indica que recibirá una tupla de un numero desconocido de argumentos\n",
    "    print(\"el nombre de tu fruta es:\",parametros[2])  # en el cuerpo de la funcion se pueden usar  \n",
    "                                                      # cualquiera de los valores contenidos en la tupla\n",
    "    \n",
    "funcion6(\"manzana\",\"uva\",\"mango\",\"sandia\",\"platano\")  #aqui recibió una tupla de 5 elementos\n",
    "funcion6(1,2,3,4)                                     #aqui recibió una tupla de 4 elementos"
   ]
  },
  {
   "cell_type": "code",
   "execution_count": 65,
   "metadata": {},
   "outputs": [],
   "source": [
    "#Funciones con cuerpo vacío\n",
    "\n",
    "def funcion7(fkjhlwreiñoj):\n",
    "    pass                       # En caso de dejar el cuerpo de la funcion vacío, debes poner -pass, para que no mande error\n"
   ]
  },
  {
   "cell_type": "code",
   "execution_count": 70,
   "metadata": {},
   "outputs": [
    {
     "name": "stdout",
     "output_type": "stream",
     "text": [
      "\n",
      "\n",
      "Resultado de funcion8:\n",
      "1\n",
      "3\n",
      "6\n",
      "10\n",
      "15\n"
     ]
    },
    {
     "data": {
      "text/plain": [
       "15"
      ]
     },
     "execution_count": 70,
     "metadata": {},
     "output_type": "execute_result"
    }
   ],
   "source": [
    "#Funciones recursivas\n",
    "\n",
    "# Es válido definir funciones que se recursan a sí mismas, pero hay que ser muy cuidadosos al momento de definirlas\n",
    "# para que tengan un contenido totalmente correcto matematicamente y no caer en algun bucle infinito o resultado inesperado\n",
    "\n",
    "def funcion8(n):\n",
    "  if(n>0):\n",
    "    resultado = n+funcion8(n-1)\n",
    "    print(resultado)\n",
    "  else:\n",
    "    resultado = 0\n",
    "  return resultado\n",
    "\n",
    "print(\"\\n\\nResultado de funcion8:\")\n",
    "funcion8(5)\n",
    "\n",
    "#    *Ver proceso de la funcion en notas de la tablet"
   ]
  },
  {
   "cell_type": "code",
   "execution_count": 3,
   "metadata": {},
   "outputs": [
    {
     "name": "stdout",
     "output_type": "stream",
     "text": [
      "10\n",
      "6\n"
     ]
    }
   ],
   "source": [
    "#Funcion lambda\n",
    "\n",
    "#Este tipo de funcion recibe cualquier numero de parámetros, pero sólo contiene una expresión.\n",
    "#Se declara con el comando lambda, luego los parámetros separados por comas, dos puntos, y una expresión\n",
    "#(la cual es el contenido de la función).\n",
    "\n",
    "x = lambda a : a*2          #parámetro a y devuelve a*2\n",
    "print(x(5))                 #se llama a la funcion lambda\n",
    "\n",
    "y = lambda a,b,c :a+b+c     #parámetros a,b,c y devuelve a+b+c\n",
    "print(y(1,2,3))             #se llama a la funcion lambda\n"
   ]
  },
  {
   "cell_type": "code",
   "execution_count": 13,
   "metadata": {},
   "outputs": [
    {
     "name": "stdout",
     "output_type": "stream",
     "text": [
      "12\n",
      "18 \n",
      "\n",
      "el trabalenguas decía: pablito clavo un clavito en la calva de un calvito con 2 clavitos 3 veces\n"
     ]
    }
   ],
   "source": [
    "#El poder de la función lambda se muestra al crear otras funciones, como se muestra a continuación.\n",
    "\n",
    "def funcion(n):               #Esta función recibe un numero n\n",
    "    return lambda a:a*n\n",
    "    \n",
    "doblar    = funcion(2)       #Se utiliza la funcion de arriba para definir a la funcion lambda doblar\n",
    "triplicar = funcion(3)       #Se utiliza la funcion de arriba para definir a la funcion lambda triplicar\n",
    "\n",
    "print(doblar(6))           \n",
    "print(triplicar(6),\"\\n\")\n",
    "\n",
    "#De esta manera se definieron las funciones lambda con ayuda de una funcion normal, así, cuando se declaran las funciones lambda\n",
    "#es mas mucho más sencillo y se puede cumple el requisito de una sóla expresion.\n",
    "\n",
    "\n",
    "#Otro ejemplo de definicion de una funcion lambda mediante una funcion normal:\n",
    "\n",
    "def funciontraba(n):            \n",
    "    t=\"pablito clavo un clavito en la calva de un calvito con {} clavitos\"\n",
    "    return lambda a: print(\"el trabalenguas decía:\",t.format(n),a,\"veces\")\n",
    "    #return lambda a: n*a     #Devuelve una funcion lambda sin nombre que  multiplica a tal numero por una numero desconocido a\n",
    "\n",
    "trabalenguas = funciontraba(2)\n",
    "trabalenguas(3)\n",
    "   \n",
    "    \n"
   ]
  },
  {
   "cell_type": "code",
   "execution_count": null,
   "metadata": {},
   "outputs": [],
   "source": []
  }
 ],
 "metadata": {
  "kernelspec": {
   "display_name": "Python 3",
   "language": "python",
   "name": "python3"
  },
  "language_info": {
   "codemirror_mode": {
    "name": "ipython",
    "version": 3
   },
   "file_extension": ".py",
   "mimetype": "text/x-python",
   "name": "python",
   "nbconvert_exporter": "python",
   "pygments_lexer": "ipython3",
   "version": "3.7.1"
  }
 },
 "nbformat": 4,
 "nbformat_minor": 2
}
